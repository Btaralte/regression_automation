{
 "cells": [
  {
   "cell_type": "markdown",
   "metadata": {},
   "source": [
    "<h2>Importing libraries</h2>"
   ]
  },
  {
   "cell_type": "code",
   "execution_count": 1,
   "metadata": {},
   "outputs": [],
   "source": [
    "import numpy as np\n",
    "import matplotlib.pyplot as plt\n",
    "import pandas as pd"
   ]
  },
  {
   "cell_type": "markdown",
   "metadata": {},
   "source": [
    "<h2>Importing data set</h2>"
   ]
  },
  {
   "cell_type": "code",
   "execution_count": 3,
   "metadata": {},
   "outputs": [
    {
     "data": {
      "text/html": [
       "<div>\n",
       "<style scoped>\n",
       "    .dataframe tbody tr th:only-of-type {\n",
       "        vertical-align: middle;\n",
       "    }\n",
       "\n",
       "    .dataframe tbody tr th {\n",
       "        vertical-align: top;\n",
       "    }\n",
       "\n",
       "    .dataframe thead th {\n",
       "        text-align: right;\n",
       "    }\n",
       "</style>\n",
       "<table border=\"1\" class=\"dataframe\">\n",
       "  <thead>\n",
       "    <tr style=\"text-align: right;\">\n",
       "      <th></th>\n",
       "      <th>AT</th>\n",
       "      <th>V</th>\n",
       "      <th>AP</th>\n",
       "      <th>RH</th>\n",
       "      <th>PE</th>\n",
       "    </tr>\n",
       "  </thead>\n",
       "  <tbody>\n",
       "    <tr>\n",
       "      <th>0</th>\n",
       "      <td>14.96</td>\n",
       "      <td>41.76</td>\n",
       "      <td>1024.07</td>\n",
       "      <td>73.17</td>\n",
       "      <td>463.26</td>\n",
       "    </tr>\n",
       "    <tr>\n",
       "      <th>1</th>\n",
       "      <td>25.18</td>\n",
       "      <td>62.96</td>\n",
       "      <td>1020.04</td>\n",
       "      <td>59.08</td>\n",
       "      <td>444.37</td>\n",
       "    </tr>\n",
       "    <tr>\n",
       "      <th>2</th>\n",
       "      <td>5.11</td>\n",
       "      <td>39.40</td>\n",
       "      <td>1012.16</td>\n",
       "      <td>92.14</td>\n",
       "      <td>488.56</td>\n",
       "    </tr>\n",
       "    <tr>\n",
       "      <th>3</th>\n",
       "      <td>20.86</td>\n",
       "      <td>57.32</td>\n",
       "      <td>1010.24</td>\n",
       "      <td>76.64</td>\n",
       "      <td>446.48</td>\n",
       "    </tr>\n",
       "    <tr>\n",
       "      <th>4</th>\n",
       "      <td>10.82</td>\n",
       "      <td>37.50</td>\n",
       "      <td>1009.23</td>\n",
       "      <td>96.62</td>\n",
       "      <td>473.90</td>\n",
       "    </tr>\n",
       "    <tr>\n",
       "      <th>5</th>\n",
       "      <td>26.27</td>\n",
       "      <td>59.44</td>\n",
       "      <td>1012.23</td>\n",
       "      <td>58.77</td>\n",
       "      <td>443.67</td>\n",
       "    </tr>\n",
       "    <tr>\n",
       "      <th>6</th>\n",
       "      <td>15.89</td>\n",
       "      <td>43.96</td>\n",
       "      <td>1014.02</td>\n",
       "      <td>75.24</td>\n",
       "      <td>467.35</td>\n",
       "    </tr>\n",
       "    <tr>\n",
       "      <th>7</th>\n",
       "      <td>9.48</td>\n",
       "      <td>44.71</td>\n",
       "      <td>1019.12</td>\n",
       "      <td>66.43</td>\n",
       "      <td>478.42</td>\n",
       "    </tr>\n",
       "    <tr>\n",
       "      <th>8</th>\n",
       "      <td>14.64</td>\n",
       "      <td>45.00</td>\n",
       "      <td>1021.78</td>\n",
       "      <td>41.25</td>\n",
       "      <td>475.98</td>\n",
       "    </tr>\n",
       "    <tr>\n",
       "      <th>9</th>\n",
       "      <td>11.74</td>\n",
       "      <td>43.56</td>\n",
       "      <td>1015.14</td>\n",
       "      <td>70.72</td>\n",
       "      <td>477.50</td>\n",
       "    </tr>\n",
       "  </tbody>\n",
       "</table>\n",
       "</div>"
      ],
      "text/plain": [
       "      AT      V       AP     RH      PE\n",
       "0  14.96  41.76  1024.07  73.17  463.26\n",
       "1  25.18  62.96  1020.04  59.08  444.37\n",
       "2   5.11  39.40  1012.16  92.14  488.56\n",
       "3  20.86  57.32  1010.24  76.64  446.48\n",
       "4  10.82  37.50  1009.23  96.62  473.90\n",
       "5  26.27  59.44  1012.23  58.77  443.67\n",
       "6  15.89  43.96  1014.02  75.24  467.35\n",
       "7   9.48  44.71  1019.12  66.43  478.42\n",
       "8  14.64  45.00  1021.78  41.25  475.98\n",
       "9  11.74  43.56  1015.14  70.72  477.50"
      ]
     },
     "execution_count": 3,
     "metadata": {},
     "output_type": "execute_result"
    }
   ],
   "source": [
    "data_set = pd.read_csv('Data.csv')\n",
    "x = data_set.iloc[:,0:4].values\n",
    "y = data_set.iloc[:,-1].values\n",
    "data_set.head(10)"
   ]
  },
  {
   "cell_type": "markdown",
   "metadata": {},
   "source": [
    "<h2>Splitting data into training and test set</h2>"
   ]
  },
  {
   "cell_type": "code",
   "execution_count": 4,
   "metadata": {},
   "outputs": [],
   "source": [
    "from sklearn.model_selection import train_test_split\n",
    "x_train,x_test,y_train,y_test = train_test_split(x,y,test_size=0.2,random_state=0)"
   ]
  },
  {
   "cell_type": "markdown",
   "metadata": {},
   "source": [
    "<h2>Importing regression libraries and preparing hash table for our algorithm</h2>"
   ]
  },
  {
   "cell_type": "code",
   "execution_count": 5,
   "metadata": {},
   "outputs": [],
   "source": [
    "r = {'linear_reg':[],'decisiontree_reg':[],'random_forest':[],'poly_reg':[],'svr':[]}\n",
    "from sklearn.linear_model import LinearRegression\n",
    "from sklearn.tree import DecisionTreeRegressor\n",
    "from sklearn.ensemble import RandomForestRegressor\n",
    "from sklearn.preprocessing import PolynomialFeatures\n",
    "from sklearn.svm import SVR\n",
    "from sklearn.preprocessing import StandardScaler"
   ]
  },
  {
   "cell_type": "markdown",
   "metadata": {},
   "source": [
    "<h2>Importing R2 and Mean absolute error</h2>"
   ]
  },
  {
   "cell_type": "code",
   "execution_count": 6,
   "metadata": {},
   "outputs": [],
   "source": [
    "from sklearn.metrics import r2_score,mean_absolute_error"
   ]
  },
  {
   "cell_type": "markdown",
   "metadata": {},
   "source": [
    "<h2>Model selection</h2>"
   ]
  },
  {
   "cell_type": "code",
   "execution_count": 7,
   "metadata": {},
   "outputs": [],
   "source": [
    "for reg in r:\n",
    "    if reg=='linear_reg':\n",
    "        regressor = LinearRegression()\n",
    "        regressor.fit(x_train,y_train)\n",
    "        r2 = r2_score(y_test,regressor.predict(x_test))\n",
    "        mae = mean_absolute_error(y_test,regressor.predict(x_test))\n",
    "    elif reg=='decisiontree_reg':\n",
    "        regressor = DecisionTreeRegressor()\n",
    "        regressor.fit(x_train,y_train)\n",
    "        r2 = r2_score(y_test,regressor.predict(x_test))\n",
    "        mae = mean_absolute_error(y_test,regressor.predict(x_test))\n",
    "    elif reg=='random_forest':\n",
    "        regressor = RandomForestRegressor(n_estimators=100,random_state=0)\n",
    "        regressor.fit(x_train,y_train)\n",
    "        r2 = r2_score(y_test,regressor.predict(x_test))\n",
    "        mae = mean_absolute_error(y_test,regressor.predict(x_test))\n",
    "    elif reg=='poly_reg':\n",
    "        poly = PolynomialFeatures(4)\n",
    "        x_poly = poly.fit_transform(x_train)\n",
    "        regressor = LinearRegression()\n",
    "        regressor.fit(x_poly,y_train)\n",
    "        y_pred = regressor.predict(poly.fit_transform(x_test))\n",
    "        r2 = r2_score(y_test,y_pred)\n",
    "        mae = mean_absolute_error(y_test,y_pred)\n",
    "    elif reg=='svr':\n",
    "        sc_x = StandardScaler()\n",
    "        sc_y = StandardScaler()\n",
    "        x_train = sc_x.fit_transform(x_train)\n",
    "        y_train = y_train.reshape((len(y_train),1))\n",
    "        y_train = sc_y.fit_transform(y_train)\n",
    "        x_test = sc_x.transform(x_test)\n",
    "        y_test = y_test.reshape((len(y_test),1))\n",
    "        y_test = sc_y.transform(y_test)\n",
    "        regressor = SVR(kernel='rbf')\n",
    "        regressor.fit(x_train,np.ravel(y_train))\n",
    "        y_pred = regressor.predict(x_test)\n",
    "        r2 = r2_score(np.ravel(y_test),y_pred)\n",
    "        mae = mean_absolute_error(np.ravel(y_test),y_pred)\n",
    "    r[reg].append(r2)\n",
    "    r[reg].append(mae)\n"
   ]
  },
  {
   "cell_type": "markdown",
   "metadata": {},
   "source": [
    "<h2>Printing the result of our algorithm</h2>"
   ]
  },
  {
   "cell_type": "code",
   "execution_count": 8,
   "metadata": {},
   "outputs": [
    {
     "name": "stdout",
     "output_type": "stream",
     "text": [
      "Model                         R^2                         MAE\n",
      "\n",
      "Linear Regression             0.9325315554761302       3.5665646552038255\n",
      "\n",
      "Decision Tree Regression      0.9233308837706569       3.1014681295715785\n",
      "\n",
      "Random Forest Regression      0.9651134932556499       2.3457596656217334\n",
      "\n",
      "Polynomial Regression         0.9458193772176402       3.136025578972335\n",
      "\n",
      "Support Vector Regression     0.9480784049986258       0.1756034994155753\n"
     ]
    }
   ],
   "source": [
    "print('Model'+' '*25+'R^2'+25*' '+'MAE')\n",
    "i = 0\n",
    "for model in r:\n",
    "    print('')\n",
    "    if i==0:\n",
    "        s = 'Linear Regression'\n",
    "        print(s+' '*(30-len(s))+str(r[model][0])+' '*(25-len(str(r[model][0])))+str(r[model][1]))\n",
    "    if i==1:\n",
    "        s = 'Decision Tree Regression'\n",
    "        print(s+' '*(30-len(s))+str(r[model][0])+' '*(25-len(str(r[model][0])))+str(r[model][1]))\n",
    "    if i==2:\n",
    "        s = 'Random Forest Regression'\n",
    "        print(s+' '*(30-len(s))+str(r[model][0])+' '*(25-len(str(r[model][0])))+str(r[model][1]))\n",
    "    if i==3:\n",
    "        s = 'Polynomial Regression'\n",
    "        print(s+' '*(30-len(s))+str(r[model][0])+' '*(25-len(str(r[model][0])))+str(r[model][1]))\n",
    "    if i==4:\n",
    "        s = 'Support Vector Regression'\n",
    "        print(s+' '*(30-len(s))+str(r[model][0])+' '*(25-len(str(r[model][0])))+str(r[model][1]))\n",
    "    \n",
    "    i = i+1"
   ]
  }
 ],
 "metadata": {
  "kernelspec": {
   "display_name": "Python 3",
   "language": "python",
   "name": "python3"
  },
  "language_info": {
   "codemirror_mode": {
    "name": "ipython",
    "version": 3
   },
   "file_extension": ".py",
   "mimetype": "text/x-python",
   "name": "python",
   "nbconvert_exporter": "python",
   "pygments_lexer": "ipython3",
   "version": "3.6.9"
  }
 },
 "nbformat": 4,
 "nbformat_minor": 4
}
